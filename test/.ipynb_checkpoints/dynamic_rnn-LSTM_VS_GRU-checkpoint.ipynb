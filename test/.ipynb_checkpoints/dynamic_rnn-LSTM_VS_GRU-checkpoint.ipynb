{
 "cells": [
  {
   "cell_type": "code",
   "execution_count": 1,
   "metadata": {},
   "outputs": [
    {
     "name": "stdout",
     "output_type": "stream",
     "text": [
      "(3, 6, 5)\n",
      "[[[-0.0684144  -0.02260812 -0.09905906  0.02096272  0.08964538]\n",
      "  [-0.22757285 -0.2053772  -0.14515673  0.03118955  0.1451948 ]\n",
      "  [ 0.02703386 -0.488382   -0.19258227 -0.02200483 -0.2582104 ]\n",
      "  [ 0.1515673  -0.41117148 -0.19359956 -0.02969374 -0.3631085 ]\n",
      "  [ 0.08663671 -0.17727173 -0.18064562  0.09372746 -0.17352855]\n",
      "  [ 0.12438332 -0.05510974 -0.25517509  0.05202423 -0.09427687]]\n",
      "\n",
      " [[-0.07131405  0.12074423 -0.09529821  0.14738326  0.09526612]\n",
      "  [-0.01376744  0.08471684 -0.05855926  0.04513382  0.01197764]\n",
      "  [-0.31189391 -0.30911982 -0.31629153  0.02866202  0.15958048]\n",
      "  [-0.28599804 -0.16806463 -0.07060494  0.13037624  0.24352525]\n",
      "  [ 0.          0.          0.          0.          0.        ]\n",
      "  [ 0.          0.          0.          0.          0.        ]]\n",
      "\n",
      " [[ 0.29596374 -0.17717909  0.15835043 -0.04158121 -0.39189695]\n",
      "  [ 0.25417528 -0.0024175   0.15376381  0.11910675 -0.2394022 ]\n",
      "  [ 0.20306863 -0.0013102   0.24623616  0.11576895 -0.24665233]\n",
      "  [ 0.26769586  0.09996806  0.1927349   0.03681335 -0.25265258]\n",
      "  [ 0.23415798  0.25214696  0.08049311  0.04072357 -0.11881667]\n",
      "  [ 0.23168596  0.43005317  0.00718677 -0.05141886  0.00874658]]]\n",
      "(3, 5)\n",
      "[[ 0.12438332 -0.05510974 -0.25517509  0.05202423 -0.09427687]\n",
      " [-0.28599804 -0.16806463 -0.07060494  0.13037624  0.24352525]\n",
      " [ 0.23168596  0.43005317  0.00718677 -0.05141886  0.00874658]]\n"
     ]
    }
   ],
   "source": [
    "import tensorflow as tf\n",
    "import numpy as np\n",
    " \n",
    "def dynamic_rnn(rnn_type='lstm'):\n",
    "    # 创建输入数据,3代表batch size,6代表输入序列的最大步长(max time),4代表每个序列的维度\n",
    "    X = np.random.randn(3, 6, 4)\n",
    "    \n",
    "    # 第二个输入的实际长度为4\n",
    "    X[1, 4:] = 0\n",
    "    \n",
    "#     print(X)\n",
    " \n",
    "    #记录三个输入的实际步长\n",
    "    X_lengths = [6, 4, 6]\n",
    " \n",
    "    rnn_hidden_size = 5\n",
    "    if rnn_type == 'lstm':\n",
    "        cell = tf.contrib.rnn.BasicLSTMCell(num_units=rnn_hidden_size, state_is_tuple=True)\n",
    "    else:\n",
    "        cell = tf.contrib.rnn.GRUCell(num_units=rnn_hidden_size)\n",
    " \n",
    "    outputs, last_states = tf.nn.dynamic_rnn(\n",
    "        cell=cell,\n",
    "        dtype=tf.float64,\n",
    "        sequence_length=X_lengths,\n",
    "        inputs=X)\n",
    " \n",
    "    with tf.Session() as session:\n",
    "        session.run(tf.global_variables_initializer())\n",
    "        o1, s1 = session.run([outputs, last_states])\n",
    "        print(np.shape(o1))\n",
    "        print(o1)\n",
    "        print(np.shape(s1))\n",
    "        print(s1)\n",
    " \n",
    "if __name__ == '__main__':\n",
    "    dynamic_rnn(rnn_type='lstm2')"
   ]
  },
  {
   "cell_type": "code",
   "execution_count": null,
   "metadata": {},
   "outputs": [],
   "source": []
  }
 ],
 "metadata": {
  "kernelspec": {
   "display_name": "Python 3",
   "language": "python",
   "name": "python3"
  },
  "language_info": {
   "codemirror_mode": {
    "name": "ipython",
    "version": 3
   },
   "file_extension": ".py",
   "mimetype": "text/x-python",
   "name": "python",
   "nbconvert_exporter": "python",
   "pygments_lexer": "ipython3",
   "version": "3.5.4"
  }
 },
 "nbformat": 4,
 "nbformat_minor": 2
}
