{
 "cells": [
  {
   "cell_type": "code",
   "execution_count": 1,
   "metadata": {},
   "outputs": [
    {
     "name": "stdout",
     "output_type": "stream",
     "text": [
      "(3, 6, 5)\n",
      "[[[ 0.02583007 -0.16254963  0.03231111  0.13380627  0.09984674]\n",
      "  [ 0.31533677 -0.28856638  0.28676979  0.66834642  0.20629172]\n",
      "  [ 0.2168452  -0.31239146  0.3448263   0.58530746  0.28613652]\n",
      "  [ 0.16463892 -0.13676556  0.2248685   0.4501862   0.21060677]\n",
      "  [ 0.39875529 -0.07775414  0.15274406  0.70250861  0.22492563]\n",
      "  [ 0.27753744 -0.25435448  0.10548806  0.70172589  0.31703284]]\n",
      "\n",
      " [[-0.05804742 -0.05726003  0.00253014  0.07414394  0.3347976 ]\n",
      "  [ 0.06043956  0.13199878 -0.12044179  0.05901967  0.17048757]\n",
      "  [ 0.3937168  -0.02183664  0.04266898  0.74316619  0.28750419]\n",
      "  [ 0.33702695  0.09514529 -0.05427569  0.58400851  0.2129373 ]\n",
      "  [ 0.          0.          0.          0.          0.        ]\n",
      "  [ 0.          0.          0.          0.          0.        ]]\n",
      "\n",
      " [[ 0.43695148 -0.08954564  0.26569339  0.57627956  0.05761864]\n",
      "  [ 0.48154119 -0.07834778  0.01570002  0.52587216 -0.00188863]\n",
      "  [ 0.59268014  0.16710224 -0.09626333  0.80345016  0.19697336]\n",
      "  [ 0.71011909  0.07648784 -0.05608909  0.86418424  0.21117247]\n",
      "  [ 0.50754694 -0.18629182 -0.04067813  0.75153928  0.26682879]\n",
      "  [ 0.359554   -0.13302239 -0.0574986   0.62319018  0.21951303]]]\n",
      "(3, 5)\n",
      "[[ 0.27753744 -0.25435448  0.10548806  0.70172589  0.31703284]\n",
      " [ 0.33702695  0.09514529 -0.05427569  0.58400851  0.2129373 ]\n",
      " [ 0.359554   -0.13302239 -0.0574986   0.62319018  0.21951303]]\n"
     ]
    }
   ],
   "source": [
    "import tensorflow as tf\n",
    "import numpy as np\n",
    " \n",
    "def dynamic_rnn(rnn_type='lstm'):\n",
    "    # 创建输入数据,3代表batch size,6代表输入序列的最大步长(max time),4代表每个序列的维度\n",
    "    X = np.random.randn(3, 6, 4)\n",
    "    \n",
    "    # 第二个输入的实际长度为4\n",
    "    X[1, 4:] = 0\n",
    "    \n",
    "#     print(X)\n",
    " \n",
    "    #记录三个输入的实际步长\n",
    "    X_lengths = [6, 4, 6]\n",
    " \n",
    "    rnn_hidden_size = 5\n",
    "    if rnn_type == 'lstm':\n",
    "        cell = tf.contrib.rnn.BasicLSTMCell(num_units=rnn_hidden_size, state_is_tuple=True)\n",
    "    else:\n",
    "        cell = tf.contrib.rnn.GRUCell(num_units=rnn_hidden_size)\n",
    " \n",
    "    outputs, last_states = tf.nn.dynamic_rnn(\n",
    "        cell=cell,\n",
    "        dtype=tf.float64,\n",
    "        sequence_length=X_lengths,\n",
    "        inputs=X)\n",
    " \n",
    "    with tf.Session() as session:\n",
    "        session.run(tf.global_variables_initializer())\n",
    "        o1, s1 = session.run([outputs, last_states])\n",
    "        print(np.shape(o1))\n",
    "        print(o1)\n",
    "        print(np.shape(s1))\n",
    "        print(s1)\n",
    " \n",
    "if __name__ == '__main__':\n",
    "    dynamic_rnn(rnn_type='lstm2')"
   ]
  },
  {
   "cell_type": "code",
   "execution_count": null,
   "metadata": {},
   "outputs": [],
   "source": []
  }
 ],
 "metadata": {
  "kernelspec": {
   "display_name": "Python 3",
   "language": "python",
   "name": "python3"
  },
  "language_info": {
   "codemirror_mode": {
    "name": "ipython",
    "version": 3
   },
   "file_extension": ".py",
   "mimetype": "text/x-python",
   "name": "python",
   "nbconvert_exporter": "python",
   "pygments_lexer": "ipython3",
   "version": "3.5.4"
  }
 },
 "nbformat": 4,
 "nbformat_minor": 2
}
